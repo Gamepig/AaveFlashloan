{
 "cells": [
  {
   "cell_type": "code",
   "execution_count": 5,
   "metadata": {},
   "outputs": [],
   "source": [
    "import json\n",
    "from web3 import HTTPProvider, Web3\n",
    "from Functions import getAssetsPricesAaveOracleV3, checkUserReserveData, ReservesList, getUserAccountData, getAaveAccountsByNumber\n",
    "\n",
    "web3 = Web3(HTTPProvider('https://polygon-rpc.com/', request_kwargs={'timeout': 180}))\n",
    "web3_polygon_rpc = Web3(HTTPProvider('https://polygon-rpc.com/',request_kwargs={'timeout': 180}))\n",
    "from web3.middleware import geth_poa_middleware  # type: ignore\n",
    "web3.middleware_onion.inject(geth_poa_middleware, layer=0)\n",
    "\n",
    "AaveOracleV3_address = web3.toChecksumAddress(\"0xb023e699F5a33916Ea823A16485e259257cA8Bd1\")\n",
    "with open(\"../scripts/AaveOracleV3ABI.json\") as f:\n",
    "    AaveOracleV3ABI = json.load(f)\n",
    "    AaveOracleV3ABI = AaveOracleV3ABI['result']\n",
    "AaveOracleV3_Contract = web3_polygon_rpc.eth.contract(address=AaveOracleV3_address, abi=AaveOracleV3ABI)\n"
   ]
  },
  {
   "cell_type": "code",
   "execution_count": 6,
   "metadata": {},
   "outputs": [
    {
     "name": "stdout",
     "output_type": "stream",
     "text": [
      "{'LINK': 7.318, 'WBTC': 30105.88, 'WETH': 1892.38, 'WMATIC': 1.11602774, 'CRV': 1.0149126, 'SUSHI': 1.13920628, 'BAL': 7.0559931, 'DPI': 81.23368492, 'miMATIC': 0.99815058}\n"
     ]
    }
   ],
   "source": [
    "\n",
    "User = web3.toChecksumAddress(\"0x2AA756236f096658C3A37DA01C2443a917A427A1\")\n",
    "UserData = checkUserReserveData(User)\n",
    "UserInfo = getUserAccountData(User)\n",
    "totalCollateralBase = '{:,.2f}'.format(UserInfo[0] / 10 ** 8)\n",
    "totalDebtBase = '{:,.2f}'.format(UserInfo[1] / 10 ** 8)\n",
    "currentLiquidationThreshold = UserInfo[3]\n",
    "ltv = UserInfo[4]\n",
    "UserHF = web3.fromWei(UserInfo[5],'ether')\n",
    "Tokens = []\n",
    "TokenList = {}\n",
    "for token in UserData:\n",
    "    if(token[2] == True or token[4]>0):\n",
    "        Tokens.append(token[0])\n",
    "TokensPrice = getAssetsPricesAaveOracleV3(Tokens)\n",
    "print(TokensPrice)"
   ]
  },
  {
   "cell_type": "code",
   "execution_count": 7,
   "metadata": {},
   "outputs": [
    {
     "data": {
      "text/plain": [
       "' print((f\"{totalCollateralBase} / {totalDebtBase} / {currentLiquidationThreshold} / {ltv} / {\\'{:.18f}\\'.format(UserHF)}\"))\\nprint(\\'------------------------------------------------------\\')\\nTokenName = \\'\\'\\namount = 0\\nTokenPrice = 0\\namountUSD = 0\\nCollateral = \\'\\'\\ntotalCollateral = 0\\ntotalDebtUSD = 0\\nfor token in UserData:\\n    Collateral = \\'\\'\\n    if(token[2] == True or token[4]>0):\\n        TokenData = ReservesList(token[0])\\n        TokenName = TokenData[0]\\n        TokenPrice = TokensPrice[TokenName]\\n        decimals = TokenData[1]\\n        if(token[4]>0):\\n            amount = (token[4] / (10 ** decimals))\\n            amountUSD = float(amount) * float(TokenPrice)\\n            totalDebtUSD += amountUSD\\n            Collateral = \\'Debt\\'\\n            if(token[2] == True):\\n                CollateralAmount = (token[1] / (10 ** decimals))\\n                CollateralAmountUSD = float(CollateralAmount) * float(TokenPrice)\\n                print(TokenName.ljust(8), \\'{:,.2f}\\'.format(CollateralAmount).ljust(10),\\'*\\', \\'{:,.2f}\\'.format(TokenPrice).ljust(10), \\'=\\', \\'{:,.2f}\\'.format(CollateralAmountUSD).ljust(10),\\'USD\\', \\'Collateral\\')\\n                totalCollateral += CollateralAmountUSD\\n        elif(token[2] == True):\\n            # amount = \\'{:.18f}\\'.format(web3.fromWei(Token[1],\\'ether\\'))\\n            amount = (token[1] / (10 ** decimals))\\n            amountUSD = float(amount) * float(TokenPrice)\\n            Collateral = \\'Collateral\\'\\n            totalCollateral += amountUSD\\n        # decimals = TokenData[1]\\n        print(TokenName.ljust(8), \\'{:,.6f}\\'.format(amount).ljust(10),\\'*\\', \\'{:,.2f}\\'.format(TokenPrice).ljust(10), \\'=\\', \\'{:,.6f}\\'.format(amountUSD).ljust(10),\\'USD\\', Collateral)\\nprint(\\'------------------------------------------------------\\')\\nprint(f\"totalCollateral: {\\'{:,.2f}\\'.format(totalCollateral)} USD , totalDebtUSD: {\\'{:,.2f}\\'.format(totalDebtUSD)} USD , UserHF: {\\'{:,.2f}\\'.format(UserHF)}\") '"
      ]
     },
     "execution_count": 7,
     "metadata": {},
     "output_type": "execute_result"
    }
   ],
   "source": [
    "\"\"\" print((f\"{totalCollateralBase} / {totalDebtBase} / {currentLiquidationThreshold} / {ltv} / {'{:.18f}'.format(UserHF)}\"))\n",
    "print('------------------------------------------------------')\n",
    "TokenName = ''\n",
    "amount = 0\n",
    "TokenPrice = 0\n",
    "amountUSD = 0\n",
    "Collateral = ''\n",
    "totalCollateral = 0\n",
    "totalDebtUSD = 0\n",
    "for token in UserData:\n",
    "    Collateral = ''\n",
    "    if(token[2] == True or token[4]>0):\n",
    "        TokenData = ReservesList(token[0])\n",
    "        TokenName = TokenData[0]\n",
    "        TokenPrice = TokensPrice[TokenName]\n",
    "        decimals = TokenData[1]\n",
    "        if(token[4]>0):\n",
    "            amount = (token[4] / (10 ** decimals))\n",
    "            amountUSD = float(amount) * float(TokenPrice)\n",
    "            totalDebtUSD += amountUSD\n",
    "            Collateral = 'Debt'\n",
    "            if(token[2] == True):\n",
    "                CollateralAmount = (token[1] / (10 ** decimals))\n",
    "                CollateralAmountUSD = float(CollateralAmount) * float(TokenPrice)\n",
    "                print(TokenName.ljust(8), '{:,.2f}'.format(CollateralAmount).ljust(10),'*', '{:,.2f}'.format(TokenPrice).ljust(10), '=', '{:,.2f}'.format(CollateralAmountUSD).ljust(10),'USD', 'Collateral')\n",
    "                totalCollateral += CollateralAmountUSD\n",
    "        elif(token[2] == True):\n",
    "            # amount = '{:.18f}'.format(web3.fromWei(Token[1],'ether'))\n",
    "            amount = (token[1] / (10 ** decimals))\n",
    "            amountUSD = float(amount) * float(TokenPrice)\n",
    "            Collateral = 'Collateral'\n",
    "            totalCollateral += amountUSD\n",
    "        # decimals = TokenData[1]\n",
    "        print(TokenName.ljust(8), '{:,.6f}'.format(amount).ljust(10),'*', '{:,.2f}'.format(TokenPrice).ljust(10), '=', '{:,.6f}'.format(amountUSD).ljust(10),'USD', Collateral)\n",
    "print('------------------------------------------------------')\n",
    "print(f\"totalCollateral: {'{:,.2f}'.format(totalCollateral)} USD , totalDebtUSD: {'{:,.2f}'.format(totalDebtUSD)} USD , UserHF: {'{:,.2f}'.format(UserHF)}\") \"\"\""
   ]
  },
  {
   "cell_type": "code",
   "execution_count": 8,
   "metadata": {},
   "outputs": [],
   "source": [
    "# Users = (getAaveAccountsByNumber('5'))\n",
    "# for User in Users:\n",
    "#     print(User[0])"
   ]
  }
 ],
 "metadata": {
  "kernelspec": {
   "display_name": "Python 3",
   "language": "python",
   "name": "python3"
  },
  "language_info": {
   "codemirror_mode": {
    "name": "ipython",
    "version": 3
   },
   "file_extension": ".py",
   "mimetype": "text/x-python",
   "name": "python",
   "nbconvert_exporter": "python",
   "pygments_lexer": "ipython3",
   "version": "3.10.2"
  },
  "orig_nbformat": 4
 },
 "nbformat": 4,
 "nbformat_minor": 2
}
