{
 "cells": [
  {
   "cell_type": "code",
   "execution_count": 29,
   "metadata": {},
   "outputs": [
    {
     "name": "stdout",
     "output_type": "stream",
     "text": [
      "Filter for 0x3acffa2f7defe3f3e601ad1615b68f87\n"
     ]
    }
   ],
   "source": [
    "from web3 import HTTPProvider, Web3\n",
    "from web3.middleware import geth_poa_middleware  # type: ignore\n",
    "import asyncio\n",
    "import json\n",
    "\n",
    "web3 = Web3(HTTPProvider('https://polygon.blockpi.network/v1/rpc/public', request_kwargs={'timeout': 180}))\n",
    "web3.middleware_onion.inject(geth_poa_middleware, layer=0)\n",
    "contract_address = web3.toChecksumAddress(\"0x794a61358D6845594F94dc1DB02A252b5b4814aD\")\n",
    "with open(\"../scripts/AavePoolV3ABI.json\") as f:\n",
    "            ABI = json.load(f)\n",
    "            ABI = ABI['result']\n",
    "contract = web3.eth.contract(address=Web3.toChecksumAddress(contract_address), abi=ABI)\n",
    "events = contract.events.Borrow.createFilter(fromBlock = 'latest')\n",
    "print(events)\n",
    "# for account in events:\n",
    "#     print(account)"
   ]
  },
  {
   "cell_type": "code",
   "execution_count": null,
   "metadata": {},
   "outputs": [],
   "source": []
  }
 ],
 "metadata": {
  "kernelspec": {
   "display_name": "Python 3",
   "language": "python",
   "name": "python3"
  },
  "language_info": {
   "codemirror_mode": {
    "name": "ipython",
    "version": 3
   },
   "file_extension": ".py",
   "mimetype": "text/x-python",
   "name": "python",
   "nbconvert_exporter": "python",
   "pygments_lexer": "ipython3",
   "version": "3.10.2"
  },
  "orig_nbformat": 4
 },
 "nbformat": 4,
 "nbformat_minor": 2
}
