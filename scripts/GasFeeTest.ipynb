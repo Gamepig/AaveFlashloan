{
 "cells": [
  {
   "cell_type": "code",
   "execution_count": 1,
   "metadata": {},
   "outputs": [],
   "source": [
    "from web3 import HTTPProvider, Web3\n",
    "from Functions import getAssetsPricesAaveOracleV3\n",
    "from icecream import ic\n",
    "\n",
    "web3 = Web3(HTTPProvider('https://polygon-rpc.com/', request_kwargs={'timeout': 180}))\n",
    "from web3.middleware import geth_poa_middleware  # type: ignore\n",
    "web3.middleware_onion.inject(geth_poa_middleware, layer=0)\n",
    "wmatic = web3.toChecksumAddress('0x0d500B1d8E8eF31E21C99d1Db9A6444d3ADf1270')\n",
    "weth = web3.toChecksumAddress('0x7ceB23fD6bC0adD59E62ac25578270cFf1b9f619')"
   ]
  },
  {
   "cell_type": "code",
   "execution_count": 8,
   "metadata": {},
   "outputs": [
    {
     "name": "stderr",
     "output_type": "stream",
     "text": [
      "ic| TokenPrice: {'WETH': 2289.0546, 'WMATIC': 0.80223}\n",
      "ic| gasPrice: Decimal('32.599847593'), GasPrice: 68.8598323523\n",
      "ic| type(GasLimit): <class 'int'>, GasLimit: 1500000\n",
      "ic| type(GasPrice): <class 'float'>, GasPrice: 68.8598323523\n",
      "ic| GasPriceUSD: 55.241423307985634\n"
     ]
    },
    {
     "name": "stdout",
     "output_type": "stream",
     "text": [
      "profitOffset: 0.0829\n",
      "ETHTransactionfee: 0.10329\n"
     ]
    },
    {
     "data": {
      "text/plain": [
       "55.241423307985634"
      ]
     },
     "execution_count": 8,
     "metadata": {},
     "output_type": "execute_result"
    }
   ],
   "source": [
    "\n",
    "GasLimit = (1500000)\n",
    "ETHTransactionfee = 0\n",
    "profitOffset = 0\n",
    "GasPrice = '--'\n",
    "ETHPrice = '--'\n",
    "Tokens = [wmatic,weth]\n",
    "TokenPrice = getAssetsPricesAaveOracleV3(Tokens)\n",
    "ic(TokenPrice)\n",
    "ETHPrice = TokenPrice['WMATIC']\n",
    "WETHPrice = TokenPrice['WETH']\n",
    "gasPrice = web3.fromWei(web3.eth.gas_price, 'gwei')\n",
    "max_priority_fee = web3.fromWei(web3.eth.max_priority_fee, 'gwei')\n",
    "GasPrice = float(gasPrice + max_priority_fee) * 1.1\n",
    "ic(gasPrice,GasPrice)\n",
    "ic(type(GasLimit), GasLimit)\n",
    "ic(type(GasPrice), GasPrice)\n",
    "profitOffset = round(GasLimit*((GasPrice/10**9))*ETHPrice, 4)\n",
    "ETHTransactionfee = round(GasLimit * GasPrice/10**9, 5)\n",
    "print('profitOffset:',profitOffset)\n",
    "print('ETHTransactionfee:',ETHTransactionfee)\n",
    "GasPriceUSD = GasPrice * ETHPrice\n",
    "ic(GasPriceUSD)"
   ]
  }
 ],
 "metadata": {
  "kernelspec": {
   "display_name": "Python 3",
   "language": "python",
   "name": "python3"
  },
  "language_info": {
   "codemirror_mode": {
    "name": "ipython",
    "version": 3
   },
   "file_extension": ".py",
   "mimetype": "text/x-python",
   "name": "python",
   "nbconvert_exporter": "python",
   "pygments_lexer": "ipython3",
   "version": "3.10.2"
  },
  "orig_nbformat": 4
 },
 "nbformat": 4,
 "nbformat_minor": 2
}
