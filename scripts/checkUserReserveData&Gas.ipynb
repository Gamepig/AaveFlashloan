{
 "cells": [
  {
   "cell_type": "code",
   "execution_count": 11,
   "metadata": {},
   "outputs": [],
   "source": [
    "from web3 import HTTPProvider, Web3\n",
    "web3 = Web3(HTTPProvider('https://polygon-rpc.com/', request_kwargs={'timeout': 180}))\n",
    "from web3.middleware import geth_poa_middleware  # type: ignore\n",
    "from Functions import getAssetsPricesAaveOracleV3\n",
    "web3.middleware_onion.inject(geth_poa_middleware, layer=0)\n"
   ]
  },
  {
   "cell_type": "code",
   "execution_count": 18,
   "metadata": {},
   "outputs": [
    {
     "name": "stdout",
     "output_type": "stream",
     "text": [
      "{'WMATIC': 1.1156, 'WETH': 1892.48023138}\n"
     ]
    }
   ],
   "source": [
    "wmatic = web3.toChecksumAddress('0x0d500B1d8E8eF31E21C99d1Db9A6444d3ADf1270')\n",
    "usdc = web3.toChecksumAddress('0x2791Bca1f2de4661ED88A30C99A7a9449Aa84174')\n",
    "weth = web3.toChecksumAddress('0x7ceB23fD6bC0adD59E62ac25578270cFf1b9f619')\n",
    "usdt = web3.toChecksumAddress('0xc2132D05D31c914a87C6611C10748AEb04B58e8F')\n",
    "Tokens = [wmatic,weth]\n",
    "print(getAssetsPricesAaveOracleV3(Tokens))"
   ]
  },
  {
   "cell_type": "code",
   "execution_count": 9,
   "metadata": {},
   "outputs": [
    {
     "name": "stdout",
     "output_type": "stream",
     "text": [
      "142.548311487\n",
      "1.12457234891E-7 + 3.0091076596E-8 = 1.42548311487E-7\n",
      "1.12457234891E-7 + 83.055574939 = 83.055575051457234891\n",
      "83.055574939\n"
     ]
    }
   ],
   "source": [
    "# max_fee_per_gas = web3.eth.max_fee_per_gas\n",
    "gasPrice = web3.eth.gas_price\n",
    "max_priority_fee = web3.eth.max_priority_fee\n",
    "gasPrice = web3.fromWei(web3.eth.gas_price, 'gwei')\n",
    "max_priority_fee = web3.fromWei(web3.eth.max_priority_fee, 'gwei')\n",
    "GasPrice = str(gasPrice + max_priority_fee)\n",
    "print((GasPrice))\n",
    "# print(web3.fromWei(max_fee_per_gas, 'gwei'))\n",
    "# BlockInfo = web3.eth.getBlock('pending')\n",
    "BlockInfo = web3.eth.getBlock('latest')\n",
    "\n",
    "print(web3.fromWei(gasPrice, 'gwei'),'+',web3.fromWei(max_priority_fee, 'gwei'),'=',web3.fromWei((gasPrice + max_priority_fee), 'gwei'))\n",
    "print(web3.fromWei(gasPrice, 'gwei'),'+',web3.fromWei(BlockInfo['baseFeePerGas'], 'gwei'),'=',web3.fromWei((gasPrice + BlockInfo['baseFeePerGas']), 'gwei'))\n",
    "print(web3.fromWei((BlockInfo['baseFeePerGas']), 'gwei'))"
   ]
  },
  {
   "cell_type": "code",
   "execution_count": 2,
   "metadata": {},
   "outputs": [],
   "source": [
    "from Functions import getAssetsPricesAaveOracleV3,checkUserReserveData,ReservesList\n",
    "    \n",
    "# Tokens = ['DAI','WETH','WBTC','USDC','USDT','LINK','SUSHI','BAL','DPI','stMATIC','MaticX']\n",
    "# Tokens = ['MaticX']\n",
    "# result = getAssetsPricesAaveOracleV3(Tokens)\n",
    "# for number in result:\n",
    "#     token = number[0]\n",
    "#     price = number[1]/ 10 ** 8\n",
    "#     print(token,price)"
   ]
  },
  {
   "cell_type": "code",
   "execution_count": 15,
   "metadata": {},
   "outputs": [
    {
     "name": "stdout",
     "output_type": "stream",
     "text": [
      "DAI 99972000\n",
      "LINK 720762247\n",
      "USDC 100000000\n",
      "WBTC 2799198602381\n",
      "WETH 186590000000\n",
      "USDT 100045188\n",
      "AAVE 7755000000\n",
      "WMATIC 111084343\n",
      "CRV 101254900\n",
      "SUSHI 112800000\n",
      "GHST 107349358\n",
      "BAL 705545548\n",
      "DPI 8053727514\n",
      "EURS 109075050\n",
      "jEUR 109075050\n",
      "agEUR 109075050\n",
      "miMATIC 99800348\n",
      "stMATIC 118411497\n",
      "MaticX 117728501\n"
     ]
    }
   ],
   "source": [
    "User = web3.toChecksumAddress(\"0x706289eb7A2d10ef50F6264a89EaAB55b5847E90\")\n",
    "# User = web3.toChecksumAddress(\"0x7b86b43CC1E2d568398ceEd8fC74338Dc9F9d193\")\n",
    "UserData = checkUserReserveData(User)\n",
    "Tokens = []\n",
    "result = []\n",
    "# print(UserData)\n",
    "for Token in UserData:\n",
    "    Tokens.append(Token[0])\n",
    "results = getAssetsPricesAaveOracleV3(Tokens)\n",
    "\n",
    "for item in results:\n",
    "    token = item[0]\n",
    "    price = item[1]\n",
    "    print(token,price)"
   ]
  }
 ],
 "metadata": {
  "kernelspec": {
   "display_name": "Python 3",
   "language": "python",
   "name": "python3"
  },
  "language_info": {
   "codemirror_mode": {
    "name": "ipython",
    "version": 3
   },
   "file_extension": ".py",
   "mimetype": "text/x-python",
   "name": "python",
   "nbconvert_exporter": "python",
   "pygments_lexer": "ipython3",
   "version": "3.10.2"
  },
  "orig_nbformat": 4
 },
 "nbformat": 4,
 "nbformat_minor": 2
}
